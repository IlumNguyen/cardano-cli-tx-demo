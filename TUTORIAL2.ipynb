{
 "cells": [
  {
   "attachments": {},
   "cell_type": "markdown",
   "metadata": {},
   "source": [
    "# Tạo recovery/root key/address key với cardano-address\n",
    "\n"
   ]
  },
  {
   "attachments": {},
   "cell_type": "markdown",
   "metadata": {},
   "source": [
    "Bảng chú giải thuật ngũ:\n",
    "- x = private\n",
    "- s = signing\n",
    "- v = verification\n",
    "- policy.script: là điều kiện của policy tạo token\n",
    "- policyID: là hash của policy.script \n",
    "- assetID = hash policyID + asset name\n",
    "- assetname trong môi trường mã máy cardano biểu diễn ở dạng hexcode\n"
   ]
  },
  {
   "attachments": {},
   "cell_type": "markdown",
   "metadata": {},
   "source": [
    "Tạo recovery phrase\n"
   ]
  },
  {
   "cell_type": "code",
   "execution_count": null,
   "metadata": {
    "vscode": {
     "languageId": "shellscript"
    }
   },
   "outputs": [],
   "source": [
    "cardano-address recovery-phrase generate \\\n",
    "        --size 12 > Demo/phrase1.prv \n",
    "echo \"Bộ từ bí mật là: $(cat Demo/phrase1.prv)\"\n",
    "#Các size tiêu chuẩn Cardano 9,12,15,18,21,24\n",
    "#Thêm passphrase-spending password\n",
    "#cardano-address key from-recovery-phrase Shelley --passphrase from-hex <Demo/phrase1.prv>\n",
    "#cardano-address key from-recovery-phrase Shelley --passphrase from-mnemonic <Demo/phrase1.prv>\n"
   ]
  },
  {
   "attachments": {},
   "cell_type": "markdown",
   "metadata": {},
   "source": [
    "Tạo Root key - Master key "
   ]
  },
  {
   "cell_type": "code",
   "execution_count": null,
   "metadata": {
    "vscode": {
     "languageId": "shellscript"
    }
   },
   "outputs": [],
   "source": [
    "cardano-address key from-recovery-phrase Shelley < Demo/phrase1.prv > Demo/root.xsk \n",
    "#Hệ thống sẽ tạo ra file root.xsk\n",
    "echo $(cat Demo/root.xsk)\n",
    "         "
   ]
  },
  {
   "attachments": {},
   "cell_type": "markdown",
   "metadata": {},
   "source": [
    "Tạo key cho address và address"
   ]
  },
  {
   "cell_type": "code",
   "execution_count": null,
   "metadata": {
    "vscode": {
     "languageId": "shellscript"
    }
   },
   "outputs": [],
   "source": [
    "cardano-address key child 1855H/1815H/0H/0/0 < Demo/root.xsk > Demo/key0.xsk\n",
    "cardano-address key child 1855H/1815H/0H/0/0 < Demo/root.xsk | cardano-address key public --with-chain-code > Demo/key0.xvk\n",
    "echo $(cat Demo/key0.xsk)\n",
    "cardano-cli key convert-cardano-address-key --shelley-payment-key --signing-key-file Demo/key0.xsk --out-file Demo/key0.skey\n",
    "cardano-cli key verification-key --signing-key-file Demo/key0.skey --verification-key-file Demo/key0.vkey"
   ]
  },
  {
   "attachments": {},
   "cell_type": "markdown",
   "metadata": {},
   "source": [
    "Tạo address từ vkey"
   ]
  },
  {
   "cell_type": "code",
   "execution_count": null,
   "metadata": {
    "vscode": {
     "languageId": "shellscript"
    }
   },
   "outputs": [],
   "source": [
    "#cardano-cli address build \\\n",
    "#--payment-verification-key-file key0.vkey \\\n",
    "#--stake-verification-key-file stake.vkey \\\n",
    "#--out-file payment0.addr \\\n",
    "#--testnet-magic $CARDANO_NODE_MAGIC \n",
    "\n",
    "#hoặc dùng lệnh từ cardano-address như nhau\n",
    "#cardano-address key hash < Demo/addr0.xvk\n",
    "cardano-address address payment --network-tag testnet  < Demo/key0.xvk > Demo/payment.addr \n"
   ]
  },
  {
   "attachments": {},
   "cell_type": "markdown",
   "metadata": {},
   "source": [
    "Tạo policy key & policy hash\n"
   ]
  },
  {
   "cell_type": "code",
   "execution_count": null,
   "metadata": {
    "vscode": {
     "languageId": "shellscript"
    }
   },
   "outputs": [],
   "source": [
    "cardano-cli address key-gen \\\n",
    "    --verification-key-file policy0.vkey \\\n",
    "    --signing-key-file policy0.skey\n",
    "#cardano-cli address key-hash --payment-verification-key-file policy0.vkey \n",
    "#echo $(cardano-cli address key-hash --payment-verification-key-file policy0.vkey)\n"
   ]
  },
  {
   "attachments": {},
   "cell_type": "markdown",
   "metadata": {},
   "source": [
    "Tạo policy script & policy ID & tạo token name"
   ]
  },
  {
   "cell_type": "code",
   "execution_count": 64,
   "metadata": {
    "vscode": {
     "languageId": "shellscript"
    }
   },
   "outputs": [],
   "source": [
    "#touch Demo/policy0.script\n",
    "#echo \"{\\\"type\\\": \\\"sig\\\", \\\"keyHash\\\" : \\\"c34dc53aec21f3f339f943148276c6d9f08fab4b0f21fee2f23a2509\\\" }\" > Demo/policy0.script\n",
    "#cardano-cli transaction policyid --script-file Demo/policy0.script > Demo/policyid \n",
    "#echo $(cat Demo/policy0.script)\n",
    "#echo -n \"vietcore\" | xxd -ps > \n",
    "#namehex #hoặc search tool nào đó để đổi tên từ text qua hexcode"
   ]
  },
  {
   "attachments": {},
   "cell_type": "markdown",
   "metadata": {},
   "source": [
    "## Tạo giao dịch mint\n"
   ]
  },
  {
   "attachments": {},
   "cell_type": "markdown",
   "metadata": {},
   "source": [
    "#Lấy tADA testnet hoặc nếu mainnet thì phải có ADA ở đâu đó\n",
    "https://docs.cardano.org/cardano-testnet/tools/faucet/"
   ]
  },
  {
   "cell_type": "code",
   "execution_count": 1,
   "metadata": {
    "vscode": {
     "languageId": "shellscript"
    }
   },
   "outputs": [
    {
     "name": "stdout",
     "output_type": "stream",
     "text": [
      "                           TxHash                                 TxIx        Amount\n",
      "--------------------------------------------------------------------------------------\n"
     ]
    }
   ],
   "source": [
    "MINT=$(cat Demo/payment.addr)\n",
    "cardano-cli query utxo \\\n",
    "    --address $MINT \\\n",
    "    --testnet-magic $CARDANO_NODE_MAGIC"
   ]
  },
  {
   "cell_type": "code",
   "execution_count": null,
   "metadata": {
    "vscode": {
     "languageId": "shellscript"
    }
   },
   "outputs": [],
   "source": [
    "#có thể chuẩn bị gán biến cho nó đơn giản\n",
    "#TX_HASH=\"instert TxHash here\"\n",
    "#TX_IX=\"insert TxIx here\"\n",
    "#TX_AMOUNT=\"9899668558\"\n",
    "#TOKEN_NAME=\"54657374746F6B656E\"\n",
    "#TOKEN_AMOUNT=\"10000000\"\n",
    "\n",
    "cardano-cli transaction build-raw \\\n",
    " --fee $FEE \\\n",
    " --tx-in $TX_HASH#$TX_IX \\\n",
    " --tx-out $MY_ADDRESS+$REMAINING+\"$TOKEN_AMOUNT $POLICY_ID.$TOKEN_NAME\" \\\n",
    " --mint \"$TOKEN_AMOUNT $POLICY_ID.$TOKEN_NAME\" \\\n",
    " --minting-script-file policy0.script \\\n",
    " --out-file mint.raw"
   ]
  },
  {
   "attachments": {},
   "cell_type": "markdown",
   "metadata": {},
   "source": [
    "Ký và gửi giao dịch"
   ]
  },
  {
   "cell_type": "code",
   "execution_count": null,
   "metadata": {
    "vscode": {
     "languageId": "shellscript"
    }
   },
   "outputs": [],
   "source": [
    "cardano-cli transaction sign  \\\n",
    "    --signing-key-file my_address.skey  \\\n",
    "    --signing-key-file asset_policy.skey  \\\n",
    "    --testnet-magic $CARDANO_NODE_MAGIC \\\n",
    "    --tx-body-file mint.raw  \\\n",
    "    --out-file mint.signed\n",
    "\n",
    "#cardano-cli transaction submit \\\n",
    "#    --tx-file mint.signed \\\n",
    "#    --testnet-magic $CARDANO_NODE_MAGIC\n",
    "\n",
    "#cardano-cli query utxo \\\n",
    "#    --address $MINT \\\n",
    "#    --testnet-magic $CARDANO_NODE_MAGIC"
   ]
  },
  {
   "attachments": {},
   "cell_type": "markdown",
   "metadata": {},
   "source": [
    "## Mint NFT\n"
   ]
  },
  {
   "attachments": {},
   "cell_type": "markdown",
   "metadata": {},
   "source": [
    "Nếu muốn tách biệt address nhận và tạo token thì tạo address mới, skey mới, policy.skey mới."
   ]
  },
  {
   "cell_type": "code",
   "execution_count": 1,
   "metadata": {
    "vscode": {
     "languageId": "shellscript"
    }
   },
   "outputs": [],
   "source": [
    "#1 dạng script có điều kiện phức tạp hơn ở ví dụ tạo token ở trên. \n",
    "# - multi sig\n",
    "# - thời gian khóa không được mint/burn token\n",
    "echo \"{\" >> policy/policy.script\n",
    "echo \"  \\\"type\\\": \\\"all\\\",\" >> policy/policy.script\n",
    "echo \"  \\\"scripts\\\":\" >> policy/policy.script\n",
    "echo \"  [\" >> policy/policy.script\n",
    "echo \"   {\" >> policy/policy.script\n",
    "echo \"     \\\"type\\\": \\\"before\\\",\" >> policy/policy.script\n",
    "echo \"     \\\"slot\\\": $(expr $(cardano-cli query tip --testnet-magic 2 | jq .slot?) + 10000)\" >> policy/policy.script\n",
    "echo \"   },\" >> policy/policy.script\n",
    "echo \"   {\" >> policy/policy.script\n",
    "echo \"     \\\"type\\\": \\\"sig\\\",\" >> policy/policy.script\n",
    "echo \"     \\\"keyHash\\\": \\\"$(cardano-cli address key-hash --payment-verification-key-file policy/policy.vkey)\\\"\" >> policy/policy.script\n",
    "echo \"   }\" >> policy/policy.script\n",
    "echo \"  ]\" >> policy/policy.script\n",
    "echo \"}\" >> policy/policy.script\n"
   ]
  },
  {
   "cell_type": "code",
   "execution_count": null,
   "metadata": {
    "vscode": {
     "languageId": "shellscript"
    }
   },
   "outputs": [],
   "source": [
    "#Tạo metadata file\n",
    "echo \"{\" >> metadata.json\n",
    "echo \"  \\\"721\\\": {\" >> metadata.json\n",
    "echo \"    \\\"$(cat policy/policyID)\\\": {\" >> metadata.json\n",
    "echo \"      \\\"$(echo $realtokenname)\\\": {\" >> metadata.json\n",
    "echo \"        \\\"description\\\": \\\"This is my first NFT thanks to the Cardano foundation\\\",\" >> metadata.json\n",
    "echo \"        \\\"name\\\": \\\"Cardano foundation NFT guide token\\\",\" >> metadata.json\n",
    "echo \"        \\\"id\\\": \\\"1\\\",\" >> metadata.json\n",
    "echo \"        \\\"image\\\": \\\"ipfs://$(echo $ipfs_hash)\\\"\" >> metadata.json\n",
    "echo \"      }\" >> metadata.json\n",
    "echo \"    }\" >> metadata.json\n",
    "echo \"  }\" >> metadata.json\n",
    "echo \"}\" >> metadata.json"
   ]
  },
  {
   "cell_type": "code",
   "execution_count": null,
   "metadata": {
    "vscode": {
     "languageId": "shellscript"
    }
   },
   "outputs": [],
   "source": [
    "#Tạo giao dịch mint\n",
    "cardano-cli transaction build \\\n",
    "--testnet-magic 2 \\\n",
    "--alonzo-era \\\n",
    "--tx-in $txhash#$txix \\\n",
    "--tx-out $address+$output+\"$tokenamount $policyid.$tokenname\" \\\n",
    "--change-address $address \\\n",
    "--mint=\"$tokenamount $policyid.$tokenname\" \\\n",
    "--minting-script-file $script \\\n",
    "--metadata-json-file metadata.json  \\\n",
    "--invalid-hereafter $slotnumber \\\n",
    "--witness-override 2 \\\n",
    "--out-file matx.raw"
   ]
  }
 ],
 "metadata": {
  "kernelspec": {
   "display_name": "Bash",
   "language": "bash",
   "name": "bash"
  },
  "language_info": {
   "codemirror_mode": "shell",
   "file_extension": ".sh",
   "mimetype": "text/x-sh",
   "name": "bash"
  },
  "orig_nbformat": 4
 },
 "nbformat": 4,
 "nbformat_minor": 2
}
